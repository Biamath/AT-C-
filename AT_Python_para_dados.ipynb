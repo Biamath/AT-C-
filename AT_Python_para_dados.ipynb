{
  "cells": [
    {
      "cell_type": "markdown",
      "metadata": {
        "id": "view-in-github",
        "colab_type": "text"
      },
      "source": [
        "<a href=\"https://colab.research.google.com/github/Biamath/AT-C-/blob/main/AT_Python_para_dados.ipynb\" target=\"_parent\"><img src=\"https://colab.research.google.com/assets/colab-badge.svg\" alt=\"Open In Colab\"/></a>"
      ]
    },
    {
      "cell_type": "markdown",
      "metadata": {
        "id": "gX4nwiqA722j"
      },
      "source": [
        "1.Escreva um programa que leia o arquivo disponível em “https://github.com/cassiusf/datasets/raw/main/alunos_nomes.txt”. Armazene o conteúdo em um dicionário com pares chave-valor. Cada linha do arquivo deverá ser um par do dicionário com o número sendo a chave e o nome do(a) aluno(a) o valor. Após carregar o conteúdo em um dicionário, busque pelo seu nome e retorne o valor da chave correspondente."
      ]
    },
    {
      "cell_type": "code",
      "execution_count": null,
      "metadata": {
        "colab": {
          "background_save": true
        },
        "id": "IyQnUcFpPwtm",
        "outputId": "83a6d1e3-9988-486c-aa5c-7da942e1a27f"
      },
      "outputs": [
        {
          "name": "stdout",
          "output_type": "stream",
          "text": [
            "Primeiros 5 itens do dicionário de alunos:\n",
            "1: Augusto\n",
            "2: Bernardo\n",
            "3: Caio\n",
            "4: Fernanda\n",
            "5: Gabriel\n"
          ]
        }
      ],
      "source": [
        "import requests\n",
        "\n",
        "# URL do arquivo\n",
        "url = \"https://github.com/cassiusf/datasets/raw/main/alunos_nomes.txt\"\n",
        "\n",
        "# Função para carregar o arquivo e criar o dicionário\n",
        "def carregar_alunos(url):\n",
        "    response = requests.get(url)\n",
        "    if response.status_code == 200:\n",
        "        conteudo = response.text.splitlines()\n",
        "        alunos = {}\n",
        "        for linha in conteudo:\n",
        "            partes = linha.split(maxsplit=1)\n",
        "            if len(partes) == 2:\n",
        "                numero, nome = partes\n",
        "                nome = nome.strip('- ').strip()  # Remove o hífen e espaços extras\n",
        "                try:\n",
        "                    alunos[int(numero)] = nome\n",
        "                except ValueError:\n",
        "                    print(f\"Aviso: Não foi possível converter '{numero}' para um número inteiro.\")\n",
        "            else:\n",
        "                print(f\"Aviso: Linha ignorada devido ao formato incorreto: {linha}\")\n",
        "        return alunos\n",
        "    else:\n",
        "        print(f\"Erro ao acessar o arquivo. Código de status: {response.status_code}\")\n",
        "        return None\n",
        "\n",
        "# Função para buscar a chave pelo nome\n",
        "def buscar_numero_por_nome(alunos, nome_busca):\n",
        "    for numero, nome in alunos.items():\n",
        "        if nome.lower() == nome_busca.lower():\n",
        "            return numero\n",
        "    return None\n",
        "\n",
        "# Carregar os alunos\n",
        "alunos = carregar_alunos(url)\n",
        "\n",
        "if alunos:\n",
        "    # Exibir os primeiros 5 itens do dicionário para verificação\n",
        "    print(\"Primeiros 5 itens do dicionário de alunos:\")\n",
        "    for i, (numero, nome) in enumerate(list(alunos.items())[:5]):\n",
        "        print(f\"{numero}: {nome}\")\n",
        "\n",
        "    # Solicitar o nome para busca\n",
        "    nome_busca = input(\"\\nDigite o nome do aluno que deseja buscar: \")\n",
        "\n",
        "    # Buscar o número correspondente ao nome\n",
        "    numero_encontrado = buscar_numero_por_nome(alunos, nome_busca)\n",
        "\n",
        "    if numero_encontrado:\n",
        "        print(f\"O número correspondente ao aluno '{nome_busca}' é: {numero_encontrado}\")\n",
        "    else:\n",
        "        print(f\"Aluno '{nome_busca}' não encontrado na lista.\")\n",
        "else:\n",
        "    print(\"Não foi possível carregar a lista de alunos.\")"
      ]
    },
    {
      "cell_type": "markdown",
      "metadata": {
        "id": "4gC6zS5ji3_G"
      },
      "source": [
        "2.A partir do dicionário criado na questão 1, adicione o par contendo a chave 0 (zero) e o valor 'Cassius Figueiredo'. Depois de incluir esse par, salve seu dicionário em um arquivo TXT com o nome \"novos_nomes.txt\"."
      ]
    },
    {
      "cell_type": "code",
      "execution_count": null,
      "metadata": {
        "colab": {
          "background_save": true,
          "base_uri": "https://localhost:8080/"
        },
        "id": "h_zVVEiGRLoy",
        "outputId": "ad2bc480-3bd0-425a-a390-fc8140eedf15"
      },
      "outputs": [
        {
          "name": "stdout",
          "output_type": "stream",
          "text": [
            "Primeiros 6 itens do dicionário de alunos (incluindo o novo item):\n",
            "0: Cassius Figueiredo\n",
            "1: Augusto\n",
            "2: Bernardo\n",
            "3: Caio\n",
            "4: Fernanda\n",
            "5: Gabriel\n"
          ]
        }
      ],
      "source": [
        "import requests\n",
        "\n",
        "# URL do arquivo\n",
        "url = \"https://github.com/cassiusf/datasets/raw/main/alunos_nomes.txt\"\n",
        "\n",
        "# Função para carregar o arquivo e criar o dicionário\n",
        "def carregar_alunos(url):\n",
        "    response = requests.get(url)\n",
        "    if response.status_code == 200:\n",
        "        conteudo = response.text.splitlines()\n",
        "        alunos = {}\n",
        "        for linha in conteudo:\n",
        "            partes = linha.split(maxsplit=1)\n",
        "            if len(partes) == 2:\n",
        "                numero, nome = partes\n",
        "                nome = nome.strip('- ').strip()  # Remove o hífen e espaços extras\n",
        "                try:\n",
        "                    alunos[int(numero)] = nome\n",
        "                except ValueError:\n",
        "                    print(f\"Aviso: Não foi possível converter '{numero}' para um número inteiro.\")\n",
        "            else:\n",
        "                print(f\"Aviso: Linha ignorada devido ao formato incorreto: {linha}\")\n",
        "        return alunos\n",
        "    else:\n",
        "        print(f\"Erro ao acessar o arquivo. Código de status: {response.status_code}\")\n",
        "        return None\n",
        "\n",
        "# Função para buscar a chave pelo nome\n",
        "def buscar_numero_por_nome(alunos, nome_busca):\n",
        "    for numero, nome in alunos.items():\n",
        "        if nome.lower() == nome_busca.lower():\n",
        "            return numero\n",
        "    return None\n",
        "\n",
        "# Carregar os alunos\n",
        "alunos = carregar_alunos(url)\n",
        "\n",
        "if alunos:\n",
        "    # Adicionar o novo par chave-valor\n",
        "    alunos[0] = 'Cassius Figueiredo'\n",
        "\n",
        "    # Exibir os primeiros 6 itens do dicionário para verificação (incluindo o novo item)\n",
        "    print(\"Primeiros 6 itens do dicionário de alunos (incluindo o novo item):\")\n",
        "    for i, (numero, nome) in enumerate(sorted(alunos.items())[:6]):\n",
        "        print(f\"{numero}: {nome}\")\n",
        "\n",
        "    # Solicitar o nome para busca\n",
        "    nome_busca = input(\"\\nDigite o nome do aluno que deseja buscar: \")\n",
        "\n",
        "    # Buscar o número correspondente ao nome\n",
        "    numero_encontrado = buscar_numero_por_nome(alunos, nome_busca)\n",
        "\n",
        "    if numero_encontrado is not None:\n",
        "        print(f\"O número correspondente ao aluno '{nome_busca}' é: {numero_encontrado}\")\n",
        "    else:\n",
        "        print(f\"Aluno '{nome_busca}' não encontrado na lista.\")\n",
        "else:\n",
        "    print(\"Não foi possível carregar a lista de alunos.\")"
      ]
    }
  ],
  "metadata": {
    "colab": {
      "provenance": [],
      "history_visible": true,
      "mount_file_id": "1OUNxzaRyR0NAHcH2GNtVZOuinQav51FA",
      "authorship_tag": "ABX9TyNp6Q6ITwtXlLw7d1u2iW9W",
      "include_colab_link": true
    },
    "kernelspec": {
      "display_name": "Python 3",
      "name": "python3"
    },
    "language_info": {
      "name": "python"
    }
  },
  "nbformat": 4,
  "nbformat_minor": 0
}